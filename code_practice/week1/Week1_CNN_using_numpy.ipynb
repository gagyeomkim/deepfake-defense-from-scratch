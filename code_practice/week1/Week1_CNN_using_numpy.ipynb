{
  "nbformat": 4,
  "nbformat_minor": 0,
  "metadata": {
    "colab": {
      "provenance": [],
      "collapsed_sections": [
        "B8-RsnexbMKJ",
        "iqBbeSdyVuM1",
        "jsNiL2qoVvZN"
      ],
      "authorship_tag": "ABX9TyP4nNANbMvEj2Q6Vy2Z9gx7",
      "include_colab_link": true
    },
    "kernelspec": {
      "name": "python3",
      "display_name": "Python 3"
    },
    "language_info": {
      "name": "python"
    }
  },
  "cells": [
    {
      "cell_type": "markdown",
      "metadata": {
        "id": "view-in-github",
        "colab_type": "text"
      },
      "source": [
        "<a href=\"https://colab.research.google.com/github/gagyeomkim/deepfake-defense-from-scratch/blob/gagyeomkim/code_practice/week1/Week1_CNN_using_numpy.ipynb\" target=\"_parent\"><img src=\"https://colab.research.google.com/assets/colab-badge.svg\" alt=\"Open In Colab\"/></a>"
      ]
    },
    {
      "cell_type": "markdown",
      "source": [
        "# Prerequisite for CNN(합성곱 신경망)"
      ],
      "metadata": {
        "id": "Yv28h26CLLNm"
      }
    },
    {
      "cell_type": "markdown",
      "source": [
        "> Motivation: 이미지 인식 분야에서 딥러닝을 활용한 기법들은 대부분 convolutional neural network(합성곱 신경망)을 기초로 합니다.   \n",
        "> CNN은 너무나 잘 정리된 자료들이 많기 때문에 강의자료와 이어서 Insight 정도를 적어두고, 나머지는 프로젝트 과제의 몫으로남깁니다."
      ],
      "metadata": {
        "id": "Cew0HHOzL_bn"
      }
    },
    {
      "cell_type": "markdown",
      "source": [
        "## 1. Structures(전체 구조)"
      ],
      "metadata": {
        "id": "PV6LhQGRLM4D"
      }
    },
    {
      "cell_type": "markdown",
      "source": [
        "CNN의 네트워크 구조를 살펴보겠습니다.\n",
        "\n",
        "CNN 또한, 강의자료에서 설명했던 Neural Network처럼 레고 블록처럼 Layer(계층)들을 조합해서 만들 수 있습니다.\n",
        "\n",
        "\n",
        "> **Affine Layer**: 인접하는 모든 계층의 뉴런이 결합되어 있는 계층. \"fully-connected\"되었다고도 표현함.   \n",
        "> 일반적으로 CNN이전의 고전적인 Neural Network들은 Affine 계층으로도 거의 표현할 수 있음.\n",
        "\n",
        "\n",
        "다만, CNN의 네트워크에서는 Affine Layer 이외에도 Convolutional Layer(합성곱 계층)과 Pooling Layer(풀링 계층)이 새롭게 등장합니다.\n",
        "\n",
        "만약 layer가 4개인 neural netwok에 대해 나타내면 아래와 같습니다.\n",
        "![인공신경망](https://img1.daumcdn.net/thumb/R1280x0/?scode=mtistory2&fname=https%3A%2F%2Fblog.kakaocdn.net%2Fdna%2FdlNjdp%2FbtqCxReQHpe%2FAAAAAAAAAAAAAAAAAAAAAH25fahDOHwV4SQSAOwr0VGFt1Ba0Yxqv9yXGNhaqEzH%2Fimg.png%3Fcredential%3DyqXZFxpELC7KVnFOS48ylbz2pIh7yKj8%26expires%3D1764514799%26allow_ip%3D%26allow_referer%3D%26signature%3DQ%252Fd%252FD9liX8TN%252F2oJ6Ohdsb714Z0%253D)"
      ],
      "metadata": {
        "id": "9iGxlH9yMOdP"
      }
    },
    {
      "cell_type": "markdown",
      "source": [
        "즉, 흔히 사용하는 **Affine-ReLU** 연결이 -> **Conv-ReLU-(Pooling)** 연결로 바뀌었다고 생각하면 됩니다."
      ],
      "metadata": {
        "id": "0CbvrWNXO9nA"
      }
    },
    {
      "cell_type": "markdown",
      "source": [
        "사진 출처: https://sungwookkang.com/entry/CNN-Convolutional-Neural-Network-%EA%B0%9C%EB%85%90"
      ],
      "metadata": {
        "id": "83bLEnKGPfZU"
      }
    },
    {
      "cell_type": "markdown",
      "source": [
        "## 2. Convolutional Layer(합성곱 계층)"
      ],
      "metadata": {
        "id": "uk13pWjALOcf"
      }
    },
    {
      "cell_type": "markdown",
      "source": [
        "Convolution layer의 입출력 데이터(input, output)를 **feature map**이라고 합니다.\n",
        "> 최근 들어서는 output data만을 feature map이라고 지칭하기도 하는 것 같습니다.\n",
        "\n",
        "Convolutional Layer는 input feature map에 대해서 Convolution(합성곱) 연산을 처리하여, output feature map을 만드는 layer입니다.\n",
        "\n",
        "Convolution 연산은 이미지 처리에서 말하는 필터 연산에 해당합니다.(이말은 어떤 특정 부분에 집중하는 연산이라는 의미입니다.)\n",
        "\n"
      ],
      "metadata": {
        "id": "D8MOTlT4PQ92"
      }
    },
    {
      "cell_type": "markdown",
      "source": [
        "> 즉, 사실 CNN은 Convolutional Layer와 Pooling Layer가 추가된 것 뿐으로,  \n",
        "> **Convolution 연산이 가장 중요한 부분입니다. 이 부분을 잘 공부해주세요**"
      ],
      "metadata": {
        "id": "B_JwOaMNcPne"
      }
    },
    {
      "cell_type": "markdown",
      "source": [
        "# **TODO: Convolution Layer implementation**"
      ],
      "metadata": {
        "id": "EdsloL7rQ38D"
      }
    },
    {
      "cell_type": "markdown",
      "source": [
        "아래 자료에서 CNN에 대해서 자세히 설명합니다. 이를 보고, **Q**(Question)와 스켈레톤 코드에서 **TODO**로 표시된 부분을 완성해주세요.\n",
        "\n",
        "- Resource : https://wikidocs.net/64066"
      ],
      "metadata": {
        "id": "1X9S_vT9Q0gb"
      }
    },
    {
      "cell_type": "markdown",
      "source": [
        "**Q. Convolutional Layer가 Affine Layer(완전연결 계층)에 비해 좋은점은?**"
      ],
      "metadata": {
        "id": "wCmpUdUwLiYu"
      }
    },
    {
      "cell_type": "markdown",
      "source": [
        "- TODO :"
      ],
      "metadata": {
        "id": "THHz6m16R_nH"
      }
    },
    {
      "cell_type": "markdown",
      "source": [
        "## Implementation"
      ],
      "metadata": {
        "id": "AT2RXhsfQ7yS"
      }
    },
    {
      "cell_type": "code",
      "source": [
        "# 라이브러리 import\n",
        "import numpy as np\n",
        "import matplotlib.pyplot as plt"
      ],
      "metadata": {
        "id": "pQ8hc535XSoo"
      },
      "execution_count": 23,
      "outputs": []
    },
    {
      "cell_type": "code",
      "source": [
        "# Helper function\n",
        "def im2col(input_data, filter_h, filter_w, stride=1, pad=0):\n",
        "    \"\"\"다수의 이미지를 입력받아 2차원 배열로 변환한다(평탄화).\n",
        "\n",
        "    Parameters\n",
        "    ----------\n",
        "    input_data : 4차원 배열 형태의 입력 데이터(이미지 수, 채널 수, 높이, 너비)\n",
        "    filter_h : 필터의 높이\n",
        "    filter_w : 필터의 너비\n",
        "    stride : 스트라이드\n",
        "    pad : 패딩\n",
        "\n",
        "    Returns\n",
        "    -------\n",
        "    col : 2차원 배열\n",
        "    \"\"\"\n",
        "    N, C, H, W = input_data.shape\n",
        "    out_h = (H + 2*pad - filter_h)//stride + 1\n",
        "    out_w = (W + 2*pad - filter_w)//stride + 1\n",
        "\n",
        "    img = np.pad(input_data, [(0,0), (0,0), (pad, pad), (pad, pad)], 'constant')\n",
        "    col = np.zeros((N, C, filter_h, filter_w, out_h, out_w))\n",
        "\n",
        "    for y in range(filter_h):\n",
        "        y_max = y + stride*out_h\n",
        "        for x in range(filter_w):\n",
        "            x_max = x + stride*out_w\n",
        "            col[:, :, y, x, :, :] = img[:, :, y:y_max:stride, x:x_max:stride]\n",
        "\n",
        "    col = col.transpose(0, 4, 5, 1, 2, 3).reshape(N*out_h*out_w, -1)\n",
        "    return col"
      ],
      "metadata": {
        "id": "EUrY9eGgXIco"
      },
      "execution_count": 29,
      "outputs": []
    },
    {
      "cell_type": "markdown",
      "source": [
        "위 코드는 아래의 Convolution_Layer 구현을 위한 helper 함수입니다.  \n",
        "따로 구현할 부분은 없으며 단지 처음부터 구현할시 위와 같은 차원을 바꿔주는 함수 정도가 필요하다고 이해하시면 됩니다.\n",
        "- 차원: 1차원, 2차원, 3차원 데이터처럼 여러분이 생각하시는 그 차원입니다"
      ],
      "metadata": {
        "id": "SngBGw2bXf6p"
      }
    },
    {
      "cell_type": "code",
      "execution_count": 25,
      "metadata": {
        "id": "rTnGfeXOLGGk"
      },
      "outputs": [],
      "source": [
        "# Convolution Layer 구현\n",
        "class Convolution_Layer:\n",
        "    def __init__(self, W, b, stride=1, pad=0):\n",
        "        self.W = W\n",
        "        self.b = b\n",
        "        self.stride = stride\n",
        "        self.pad = pad\n",
        "\n",
        "    def forward(self, x):\n",
        "        # x: (N, C, IH, IW)\n",
        "        KN, C, KH, KW = self.W.shape\n",
        "        N, C, IH, IW = x.shape\n",
        "\n",
        "        ### TODO! - 패딩을 고려한 feature map의 크기 계산 ###\n",
        "        out_h =\n",
        "        out_w =\n",
        "        ###############################################\n",
        "        col = im2col(x, KH, KW, self.stride, self.pad)\n",
        "        col_W = self.W.reshape(KN, -1).T    # 필터(커널) 전개\n",
        "        out = np.dot(col, col_W) + self.b\n",
        "\n",
        "        out = out.reshape(N, out_h, out_w, -1).transpose(0, 3, 1, 2) # 왜 이렇게 바꿀까요?\n",
        "\n",
        "        return out"
      ]
    },
    {
      "cell_type": "markdown",
      "source": [
        "**Q. 왜 W와 x의 차원이 4차원일까요?**"
      ],
      "metadata": {
        "id": "zzQiHBAkZSah"
      }
    },
    {
      "cell_type": "markdown",
      "source": [
        "- TODO:"
      ],
      "metadata": {
        "id": "EbouzmLUZY8P"
      }
    },
    {
      "cell_type": "markdown",
      "source": [
        "\n",
        "**Q. 각 차원은 무엇을 뜻할까요?**\n"
      ],
      "metadata": {
        "id": "umO2-CJ4a0YN"
      }
    },
    {
      "cell_type": "markdown",
      "source": [
        "- TODO:  "
      ],
      "metadata": {
        "id": "JcsSz55ga2ME"
      }
    },
    {
      "cell_type": "markdown",
      "source": [
        "**Q. 위 코드에서 22번 라인이 들어간 이유는?**\n"
      ],
      "metadata": {
        "id": "EWi1FnIfa-Se"
      }
    },
    {
      "cell_type": "markdown",
      "source": [
        "- TODO:"
      ],
      "metadata": {
        "id": "m9elobPmbElC"
      }
    },
    {
      "cell_type": "markdown",
      "source": [
        "### 시각화"
      ],
      "metadata": {
        "id": "jSWOB70DZ0L-"
      }
    },
    {
      "cell_type": "code",
      "source": [
        "# 예시 입력: 간단한 흑백 이미지 (1채널)\n",
        "x = np.random.rand(1, 1, 8, 8)\n",
        "\n",
        "# 필터: 엣지 검출 커널 (Sobel과 유사)\n",
        "W = np.array([[[[-1, 0, 1],\n",
        "                [-1, 0, 1],\n",
        "                [-1, 0, 1]]]])  # (FN=1, C=1, 3, 3)\n",
        "b = np.array([0])\n",
        "\n",
        "conv = Convolution_Layer(W, b, stride=1, pad=1)\n",
        "out = conv.forward(x)\n",
        "\n",
        "# --- 시각화 ---\n",
        "plt.figure(figsize=(10, 3))\n",
        "plt.subplot(1, 3, 1)\n",
        "plt.title(\"Input\")\n",
        "plt.imshow(x[0, 0], cmap='gray')\n",
        "plt.axis('off')\n",
        "\n",
        "plt.subplot(1, 3, 2)\n",
        "plt.title(\"Filter\")\n",
        "plt.imshow(W[0, 0], cmap='gray')\n",
        "plt.axis('off')\n",
        "\n",
        "plt.subplot(1, 3, 3)\n",
        "plt.title(\"Output Feature Map\")\n",
        "plt.imshow(out[0, 0], cmap='gray')\n",
        "plt.axis('off')\n",
        "\n",
        "plt.show()"
      ],
      "metadata": {
        "colab": {
          "base_uri": "https://localhost:8080/",
          "height": 287
        },
        "id": "95F7ztG7Tzii",
        "outputId": "f6824228-038c-4a18-f312-bec898ea4634"
      },
      "execution_count": 26,
      "outputs": [
        {
          "output_type": "display_data",
          "data": {
            "text/plain": [
              "<Figure size 1000x300 with 3 Axes>"
            ],
            "image/png": "[encoded data removed]"
          },
          "metadata": {}
        }
      ]
    },
    {
      "cell_type": "markdown",
      "source": [
        "위에서 코드를 잘 작성했다면 아래와 같은 실행결과가 나와야합니다.\n",
        "\n",
        "![image.png](data:image/png;base64,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)"
      ],
      "metadata": {
        "id": "9iZ0lXb2Z3Iv"
      }
    },
    {
      "cell_type": "markdown",
      "source": [
        "- 세로 검출용 filter를 사용하였습니다. (위 코드에서 커널을 보면 됨)\n",
        "- 즉, 최종 출력된 Output feature map은 이미지의 세로 부분이 있는 부분을 강조하게 되는걸 확인할 수 있습니다.\n",
        "- 이처럼 Convolution 연산은 이미지를 분석하는 데에 가장 기본이 되는 모델입니다."
      ],
      "metadata": {
        "id": "-Dvkoh0mZ_0-"
      }
    },
    {
      "cell_type": "markdown",
      "source": [
        "### 추가 내용\n",
        "- 적어야하는 부분: Quesiton 4개, 코드 작성 1개\n",
        "- 해당 자료는 오로지 DDFS 프로젝트를 위한 가장 간단한 insight들만을 다루므로, 더 깊은 구현을 위해서는 추가적인 공부가 필요합니다!"
      ],
      "metadata": {
        "id": "CIe-Q_Ppc2Pj"
      }
    },
    {
      "cell_type": "markdown",
      "source": [
        "# (Advanced) What about in the framework?"
      ],
      "metadata": {
        "id": "B8-RsnexbMKJ"
      }
    },
    {
      "cell_type": "markdown",
      "source": [
        "저희가 앞으로 볼 프레임워크에서는 아래와 같이 layer를 추가하는 방식으로만 구현해주면 충분합니다. 다른 layer들도 동일한 방식입니다.\n",
        "\n",
        "`1. structures`에서 미리 보았던 CNN structure를 구현해보겠습니다\n",
        "\n",
        "![인공신경망](https://img1.daumcdn.net/thumb/R1280x0/?scode=mtistory2&fname=https%3A%2F%2Fblog.kakaocdn.net%2Fdna%2FdlNjdp%2FbtqCxReQHpe%2FAAAAAAAAAAAAAAAAAAAAAH25fahDOHwV4SQSAOwr0VGFt1Ba0Yxqv9yXGNhaqEzH%2Fimg.png%3Fcredential%3DyqXZFxpELC7KVnFOS48ylbz2pIh7yKj8%26expires%3D1764514799%26allow_ip%3D%26allow_referer%3D%26signature%3DQ%252Fd%252FD9liX8TN%252F2oJ6Ohdsb714Z0%253D)\n"
      ],
      "metadata": {
        "id": "Q5vXktJVVzzU"
      }
    },
    {
      "cell_type": "markdown",
      "source": [
        "## Keras"
      ],
      "metadata": {
        "id": "iqBbeSdyVuM1"
      }
    },
    {
      "cell_type": "markdown",
      "source": [
        "> 아래 코드들은 어떤 동작도 하지 않는 코드로, 단지 모델 구조만을 한눈에 보기 위해 사용되었습니다! 파라미터의 숫자는 랜덤한 수를 넣었습니다"
      ],
      "metadata": {
        "id": "CBL2ksaRWqFd"
      }
    },
    {
      "cell_type": "code",
      "source": [
        "from tensorflow.keras import layers, models\n",
        "\n",
        "model = models.Sequential([\n",
        "    layers.Conv2D(32, (3, 3), activation='relu', input_shape=(64, 64, 3)),\n",
        "    layers.MaxPooling2D((2, 2)),\n",
        "\n",
        "    layers.Conv2D(64, (3, 3), activation='relu'),\n",
        "    layers.MaxPooling2D((2, 2)),\n",
        "\n",
        "    layers.Flatten(),\n",
        "    layers.Dense(128, activation='relu'),  # 첫 번째 FC (Affine + ReLU)\n",
        "    layers.Dense(64, activation='relu'),   # 두 번째 FC (Affine + ReLU)\n",
        "    layers.Dense(10, activation='softmax') # 출력층\n",
        "])\n",
        "\n",
        "model.summary()"
      ],
      "metadata": {
        "colab": {
          "base_uri": "https://localhost:8080/",
          "height": 391
        },
        "id": "M3TiZ7w4Vtze",
        "outputId": "321b1889-01e6-49d8-dd9a-cba4e4266b1c"
      },
      "execution_count": 27,
      "outputs": [
        {
          "output_type": "display_data",
          "data": {
            "text/plain": [
              "\u001b[1mModel: \"sequential_1\"\u001b[0m\n"
            ],
            "text/html": [
              "<pre style=\"white-space:pre;overflow-x:auto;line-height:normal;font-family:Menlo,'DejaVu Sans Mono',consolas,'Courier New',monospace\"><span style=\"font-weight: bold\">Model: \"sequential_1\"</span>\n",
              "</pre>\n"
            ]
          },
          "metadata": {}
        },
        {
          "output_type": "display_data",
          "data": {
            "text/plain": [
              "┏━━━━━━━━━━━━━━━━━━━━━━━━━━━━━━━━━┳━━━━━━━━━━━━━━━━━━━━━━━━┳━━━━━━━━━━━━━━━┓\n",
              "┃\u001b[1m \u001b[0m\u001b[1mLayer (type)                   \u001b[0m\u001b[1m \u001b[0m┃\u001b[1m \u001b[0m\u001b[1mOutput Shape          \u001b[0m\u001b[1m \u001b[0m┃\u001b[1m \u001b[0m\u001b[1m      Param #\u001b[0m\u001b[1m \u001b[0m┃\n",
              "┡━━━━━━━━━━━━━━━━━━━━━━━━━━━━━━━━━╇━━━━━━━━━━━━━━━━━━━━━━━━╇━━━━━━━━━━━━━━━┩\n",
              "│ conv2d_2 (\u001b[38;5;33mConv2D\u001b[0m)               │ (\u001b[38;5;45mNone\u001b[0m, \u001b[38;5;34m62\u001b[0m, \u001b[38;5;34m62\u001b[0m, \u001b[38;5;34m32\u001b[0m)     │           \u001b[38;5;34m896\u001b[0m │\n",
              "├─────────────────────────────────┼────────────────────────┼───────────────┤\n",
              "│ max_pooling2d_2 (\u001b[38;5;33mMaxPooling2D\u001b[0m)  │ (\u001b[38;5;45mNone\u001b[0m, \u001b[38;5;34m31\u001b[0m, \u001b[38;5;34m31\u001b[0m, \u001b[38;5;34m32\u001b[0m)     │             \u001b[38;5;34m0\u001b[0m │\n",
              "├─────────────────────────────────┼────────────────────────┼───────────────┤\n",
              "│ conv2d_3 (\u001b[38;5;33mConv2D\u001b[0m)               │ (\u001b[38;5;45mNone\u001b[0m, \u001b[38;5;34m29\u001b[0m, \u001b[38;5;34m29\u001b[0m, \u001b[38;5;34m64\u001b[0m)     │        \u001b[38;5;34m18,496\u001b[0m │\n",
              "├─────────────────────────────────┼────────────────────────┼───────────────┤\n",
              "│ max_pooling2d_3 (\u001b[38;5;33mMaxPooling2D\u001b[0m)  │ (\u001b[38;5;45mNone\u001b[0m, \u001b[38;5;34m14\u001b[0m, \u001b[38;5;34m14\u001b[0m, \u001b[38;5;34m64\u001b[0m)     │             \u001b[38;5;34m0\u001b[0m │\n",
              "├─────────────────────────────────┼────────────────────────┼───────────────┤\n",
              "│ flatten_1 (\u001b[38;5;33mFlatten\u001b[0m)             │ (\u001b[38;5;45mNone\u001b[0m, \u001b[38;5;34m12544\u001b[0m)          │             \u001b[38;5;34m0\u001b[0m │\n",
              "├─────────────────────────────────┼────────────────────────┼───────────────┤\n",
              "│ dense_3 (\u001b[38;5;33mDense\u001b[0m)                 │ (\u001b[38;5;45mNone\u001b[0m, \u001b[38;5;34m128\u001b[0m)            │     \u001b[38;5;34m1,605,760\u001b[0m │\n",
              "├─────────────────────────────────┼────────────────────────┼───────────────┤\n",
              "│ dense_4 (\u001b[38;5;33mDense\u001b[0m)                 │ (\u001b[38;5;45mNone\u001b[0m, \u001b[38;5;34m64\u001b[0m)             │         \u001b[38;5;34m8,256\u001b[0m │\n",
              "├─────────────────────────────────┼────────────────────────┼───────────────┤\n",
              "│ dense_5 (\u001b[38;5;33mDense\u001b[0m)                 │ (\u001b[38;5;45mNone\u001b[0m, \u001b[38;5;34m10\u001b[0m)             │           \u001b[38;5;34m650\u001b[0m │\n",
              "└─────────────────────────────────┴────────────────────────┴───────────────┘\n"
            ],
            "text/html": [
              "<pre style=\"white-space:pre;overflow-x:auto;line-height:normal;font-family:Menlo,'DejaVu Sans Mono',consolas,'Courier New',monospace\">┏━━━━━━━━━━━━━━━━━━━━━━━━━━━━━━━━━┳━━━━━━━━━━━━━━━━━━━━━━━━┳━━━━━━━━━━━━━━━┓\n",
              "┃<span style=\"font-weight: bold\"> Layer (type)                    </span>┃<span style=\"font-weight: bold\"> Output Shape           </span>┃<span style=\"font-weight: bold\">       Param # </span>┃\n",
              "┡━━━━━━━━━━━━━━━━━━━━━━━━━━━━━━━━━╇━━━━━━━━━━━━━━━━━━━━━━━━╇━━━━━━━━━━━━━━━┩\n",
              "│ conv2d_2 (<span style=\"color: #0087ff; text-decoration-color: #0087ff\">Conv2D</span>)               │ (<span style=\"color: #00d7ff; text-decoration-color: #00d7ff\">None</span>, <span style=\"color: #00af00; text-decoration-color: #00af00\">62</span>, <span style=\"color: #00af00; text-decoration-color: #00af00\">62</span>, <span style=\"color: #00af00; text-decoration-color: #00af00\">32</span>)     │           <span style=\"color: #00af00; text-decoration-color: #00af00\">896</span> │\n",
              "├─────────────────────────────────┼────────────────────────┼───────────────┤\n",
              "│ max_pooling2d_2 (<span style=\"color: #0087ff; text-decoration-color: #0087ff\">MaxPooling2D</span>)  │ (<span style=\"color: #00d7ff; text-decoration-color: #00d7ff\">None</span>, <span style=\"color: #00af00; text-decoration-color: #00af00\">31</span>, <span style=\"color: #00af00; text-decoration-color: #00af00\">31</span>, <span style=\"color: #00af00; text-decoration-color: #00af00\">32</span>)     │             <span style=\"color: #00af00; text-decoration-color: #00af00\">0</span> │\n",
              "├─────────────────────────────────┼────────────────────────┼───────────────┤\n",
              "│ conv2d_3 (<span style=\"color: #0087ff; text-decoration-color: #0087ff\">Conv2D</span>)               │ (<span style=\"color: #00d7ff; text-decoration-color: #00d7ff\">None</span>, <span style=\"color: #00af00; text-decoration-color: #00af00\">29</span>, <span style=\"color: #00af00; text-decoration-color: #00af00\">29</span>, <span style=\"color: #00af00; text-decoration-color: #00af00\">64</span>)     │        <span style=\"color: #00af00; text-decoration-color: #00af00\">18,496</span> │\n",
              "├─────────────────────────────────┼────────────────────────┼───────────────┤\n",
              "│ max_pooling2d_3 (<span style=\"color: #0087ff; text-decoration-color: #0087ff\">MaxPooling2D</span>)  │ (<span style=\"color: #00d7ff; text-decoration-color: #00d7ff\">None</span>, <span style=\"color: #00af00; text-decoration-color: #00af00\">14</span>, <span style=\"color: #00af00; text-decoration-color: #00af00\">14</span>, <span style=\"color: #00af00; text-decoration-color: #00af00\">64</span>)     │             <span style=\"color: #00af00; text-decoration-color: #00af00\">0</span> │\n",
              "├─────────────────────────────────┼────────────────────────┼───────────────┤\n",
              "│ flatten_1 (<span style=\"color: #0087ff; text-decoration-color: #0087ff\">Flatten</span>)             │ (<span style=\"color: #00d7ff; text-decoration-color: #00d7ff\">None</span>, <span style=\"color: #00af00; text-decoration-color: #00af00\">12544</span>)          │             <span style=\"color: #00af00; text-decoration-color: #00af00\">0</span> │\n",
              "├─────────────────────────────────┼────────────────────────┼───────────────┤\n",
              "│ dense_3 (<span style=\"color: #0087ff; text-decoration-color: #0087ff\">Dense</span>)                 │ (<span style=\"color: #00d7ff; text-decoration-color: #00d7ff\">None</span>, <span style=\"color: #00af00; text-decoration-color: #00af00\">128</span>)            │     <span style=\"color: #00af00; text-decoration-color: #00af00\">1,605,760</span> │\n",
              "├─────────────────────────────────┼────────────────────────┼───────────────┤\n",
              "│ dense_4 (<span style=\"color: #0087ff; text-decoration-color: #0087ff\">Dense</span>)                 │ (<span style=\"color: #00d7ff; text-decoration-color: #00d7ff\">None</span>, <span style=\"color: #00af00; text-decoration-color: #00af00\">64</span>)             │         <span style=\"color: #00af00; text-decoration-color: #00af00\">8,256</span> │\n",
              "├─────────────────────────────────┼────────────────────────┼───────────────┤\n",
              "│ dense_5 (<span style=\"color: #0087ff; text-decoration-color: #0087ff\">Dense</span>)                 │ (<span style=\"color: #00d7ff; text-decoration-color: #00d7ff\">None</span>, <span style=\"color: #00af00; text-decoration-color: #00af00\">10</span>)             │           <span style=\"color: #00af00; text-decoration-color: #00af00\">650</span> │\n",
              "└─────────────────────────────────┴────────────────────────┴───────────────┘\n",
              "</pre>\n"
            ]
          },
          "metadata": {}
        },
        {
          "output_type": "display_data",
          "data": {
            "text/plain": [
              "\u001b[1m Total params: \u001b[0m\u001b[38;5;34m1,634,058\u001b[0m (6.23 MB)\n"
            ],
            "text/html": [
              "<pre style=\"white-space:pre;overflow-x:auto;line-height:normal;font-family:Menlo,'DejaVu Sans Mono',consolas,'Courier New',monospace\"><span style=\"font-weight: bold\"> Total params: </span><span style=\"color: #00af00; text-decoration-color: #00af00\">1,634,058</span> (6.23 MB)\n",
              "</pre>\n"
            ]
          },
          "metadata": {}
        },
        {
          "output_type": "display_data",
          "data": {
            "text/plain": [
              "\u001b[1m Trainable params: \u001b[0m\u001b[38;5;34m1,634,058\u001b[0m (6.23 MB)\n"
            ],
            "text/html": [
              "<pre style=\"white-space:pre;overflow-x:auto;line-height:normal;font-family:Menlo,'DejaVu Sans Mono',consolas,'Courier New',monospace\"><span style=\"font-weight: bold\"> Trainable params: </span><span style=\"color: #00af00; text-decoration-color: #00af00\">1,634,058</span> (6.23 MB)\n",
              "</pre>\n"
            ]
          },
          "metadata": {}
        },
        {
          "output_type": "display_data",
          "data": {
            "text/plain": [
              "\u001b[1m Non-trainable params: \u001b[0m\u001b[38;5;34m0\u001b[0m (0.00 B)\n"
            ],
            "text/html": [
              "<pre style=\"white-space:pre;overflow-x:auto;line-height:normal;font-family:Menlo,'DejaVu Sans Mono',consolas,'Courier New',monospace\"><span style=\"font-weight: bold\"> Non-trainable params: </span><span style=\"color: #00af00; text-decoration-color: #00af00\">0</span> (0.00 B)\n",
              "</pre>\n"
            ]
          },
          "metadata": {}
        }
      ]
    },
    {
      "cell_type": "markdown",
      "source": [
        "## Pytorch"
      ],
      "metadata": {
        "id": "jsNiL2qoVvZN"
      }
    },
    {
      "cell_type": "markdown",
      "source": [
        "> 아래 코드들은 어떤 동작도 하지 않는 코드로, 단지 모델 구조만을 한눈에 보기 위해 사용되었습니다! 파라미터의 숫자는 랜덤한 수를 넣었습니다"
      ],
      "metadata": {
        "id": "IDmQUBrMWw0_"
      }
    },
    {
      "cell_type": "code",
      "source": [
        "import torch\n",
        "import torch.nn as nn\n",
        "import torch.nn.functional as F\n",
        "\n",
        "class CNNExample(nn.Module):\n",
        "    def __init__(self):\n",
        "        super(CNNExample, self).__init__()\n",
        "        self.conv1 = nn.Conv2d(3, 32, kernel_size=3)   # RGB 입력\n",
        "        self.conv2 = nn.Conv2d(32, 64, kernel_size=3)\n",
        "        self.pool = nn.MaxPool2d(2, 2)\n",
        "\n",
        "        self.fc1 = nn.Linear(64 * 13 * 13, 128)\n",
        "        self.fc2 = nn.Linear(128, 64)\n",
        "        self.fc3 = nn.Linear(64, 10)\n",
        "\n",
        "    def forward(self, x):\n",
        "        x = self.pool(F.relu(self.conv1(x)))\n",
        "        x = self.pool(F.relu(self.conv2(x)))\n",
        "        x = x.view(x.size(0), -1)  # Flatten\n",
        "        x = F.relu(self.fc1(x))\n",
        "        x = F.relu(self.fc2(x))\n",
        "        x = self.fc3(x)\n",
        "        return F.softmax(x, dim=1)\n",
        "\n",
        "model = CNNExample()\n",
        "print(model)"
      ],
      "metadata": {
        "colab": {
          "base_uri": "https://localhost:8080/"
        },
        "id": "09HrDzLVVwPl",
        "outputId": "8d6ea67a-4760-4c87-f7d5-2c1ff92ffe28"
      },
      "execution_count": 28,
      "outputs": [
        {
          "output_type": "stream",
          "name": "stdout",
          "text": [
            "CNNExample(\n",
            "  (conv1): Conv2d(3, 32, kernel_size=(3, 3), stride=(1, 1))\n",
            "  (conv2): Conv2d(32, 64, kernel_size=(3, 3), stride=(1, 1))\n",
            "  (pool): MaxPool2d(kernel_size=2, stride=2, padding=0, dilation=1, ceil_mode=False)\n",
            "  (fc1): Linear(in_features=10816, out_features=128, bias=True)\n",
            "  (fc2): Linear(in_features=128, out_features=64, bias=True)\n",
            "  (fc3): Linear(in_features=64, out_features=10, bias=True)\n",
            ")\n"
          ]
        }
      ]
    }
  ]
}